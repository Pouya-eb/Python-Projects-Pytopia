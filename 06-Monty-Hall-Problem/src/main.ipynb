{
 "cells": [
  {
   "cell_type": "code",
   "execution_count": 2,
   "metadata": {},
   "outputs": [],
   "source": [
    "import random"
   ]
  },
  {
   "cell_type": "code",
   "execution_count": 63,
   "metadata": {},
   "outputs": [],
   "source": [
    "def monty_hall_game(switch_doors: bool) -> bool:\n",
    "    \"\"\"Simulate a single Monty Hall game\n",
    "\n",
    "    :param switch_doors: True if want to switch the door\n",
    "    :return: True if won the car, otherwise False\n",
    "    \"\"\"\n",
    "    doors = ['car', 'goat', 'goat']\n",
    "    random.shuffle(doors)\n",
    "\n",
    "    initial_choice = random.choice(range(3))\n",
    "\n",
    "    # doors which could be revealed (should not be initial_choice or car)\n",
    "    doors_revealed = [i for i in range(3) if (i != initial_choice) and (doors[i] == 'goat')]\n",
    "    \n",
    "    # if the initial choice is car -> len(doors_revealed) = 2\n",
    "    door_revealed  = random.choice(doors_revealed)\n",
    "\n",
    "    if switch_doors:\n",
    "        # change the choice\n",
    "        final_choice = [i for i in range(3) if (i != initial_choice) and (i != door_revealed)][0]\n",
    "    else:\n",
    "        # do not change the choice\n",
    "        final_choice = initial_choice\n",
    "\n",
    "    return doors[final_choice] == 'car'"
   ]
  },
  {
   "cell_type": "code",
   "execution_count": 68,
   "metadata": {},
   "outputs": [
    {
     "name": "stdout",
     "output_type": "stream",
     "text": [
      "You won the car!\n"
     ]
    }
   ],
   "source": [
    "if monty_hall_game(True):\n",
    "    print('You won the car!')"
   ]
  }
 ],
 "metadata": {
  "kernelspec": {
   "display_name": "base",
   "language": "python",
   "name": "python3"
  },
  "language_info": {
   "codemirror_mode": {
    "name": "ipython",
    "version": 3
   },
   "file_extension": ".py",
   "mimetype": "text/x-python",
   "name": "python",
   "nbconvert_exporter": "python",
   "pygments_lexer": "ipython3",
   "version": "3.10.9"
  }
 },
 "nbformat": 4,
 "nbformat_minor": 2
}
