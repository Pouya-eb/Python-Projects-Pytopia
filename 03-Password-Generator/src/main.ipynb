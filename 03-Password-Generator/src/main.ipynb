{
 "cells": [
  {
   "cell_type": "code",
   "execution_count": 4,
   "metadata": {},
   "outputs": [],
   "source": [
    "import random\n",
    "import string\n",
    "from abc import ABC, abstractmethod"
   ]
  },
  {
   "cell_type": "code",
   "execution_count": 2,
   "metadata": {},
   "outputs": [],
   "source": [
    "class PasswordGenerator(ABC):\n",
    "    \"\"\"Base class for generating passwords\"\"\"\n",
    "    @abstractmethod\n",
    "    def generate(self) -> str:\n",
    "        pass"
   ]
  },
  {
   "cell_type": "code",
   "execution_count": 6,
   "metadata": {},
   "outputs": [],
   "source": [
    "class PinCodeGenerator(PasswordGenerator):\n",
    "    \"\"\"Class to generate a numeric password\"\"\"\n",
    "    def __init__(self, length: int = 8) -> None:\n",
    "        self.length = length\n",
    "\n",
    "    def generate(self) -> str:\n",
    "        \"\"\"Generate a numeric password\n",
    "\n",
    "        :return: numeric pin code\n",
    "        \"\"\"\n",
    "        return ''.join(random.choice(string.digits) for _ in range(self.length))        "
   ]
  },
  {
   "cell_type": "code",
   "execution_count": 7,
   "metadata": {},
   "outputs": [
    {
     "data": {
      "text/plain": [
       "'860687953722385'"
      ]
     },
     "execution_count": 7,
     "metadata": {},
     "output_type": "execute_result"
    }
   ],
   "source": [
    "password_generator = PinCodeGenerator(15)\n",
    "password_generator.generate()"
   ]
  },
  {
   "cell_type": "code",
   "execution_count": 8,
   "metadata": {},
   "outputs": [],
   "source": [
    "class RandomPasswordGenerator(PasswordGenerator):\n",
    "    \"\"\"Class to generate a random password\"\"\"\n",
    "    def __init__(self, length: int = 8, include_numbers: bool = False, include_symbols: bool = False ) -> None:\n",
    "        self.length = length\n",
    "        self.characters = string.ascii_letters\n",
    "        if include_numbers:\n",
    "            self.characters += string.digits\n",
    "        if include_symbols:\n",
    "            self.characters += string.punctuation\n",
    "\n",
    "    def generate(self) -> str:\n",
    "        \"\"\"Generate a random password\n",
    "\n",
    "        :return: random password\n",
    "        \"\"\"\n",
    "        return ''.join(random.choice(self.characters) for _ in range(self.length))\n",
    "        "
   ]
  },
  {
   "cell_type": "code",
   "execution_count": 10,
   "metadata": {},
   "outputs": [
    {
     "name": "stdout",
     "output_type": "stream",
     "text": [
      "sEmOsdXHgNCqVZe\n",
      "eWl4MLk1UoWYHne\n",
      "=`F$Uq]5W6Rb,d+\n"
     ]
    }
   ],
   "source": [
    "password_generator = RandomPasswordGenerator(15)\n",
    "print(password_generator.generate())\n",
    "password_generator = RandomPasswordGenerator(15, True)\n",
    "print(password_generator.generate())\n",
    "password_generator = RandomPasswordGenerator(15, True, True)\n",
    "print(password_generator.generate())"
   ]
  },
  {
   "cell_type": "code",
   "execution_count": null,
   "metadata": {},
   "outputs": [],
   "source": []
  }
 ],
 "metadata": {
  "kernelspec": {
   "display_name": "base",
   "language": "python",
   "name": "python3"
  },
  "language_info": {
   "codemirror_mode": {
    "name": "ipython",
    "version": 3
   },
   "file_extension": ".py",
   "mimetype": "text/x-python",
   "name": "python",
   "nbconvert_exporter": "python",
   "pygments_lexer": "ipython3",
   "version": "3.10.9"
  }
 },
 "nbformat": 4,
 "nbformat_minor": 2
}
