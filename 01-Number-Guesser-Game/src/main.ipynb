{
 "cells": [
  {
   "cell_type": "code",
   "execution_count": 1,
   "metadata": {},
   "outputs": [],
   "source": [
    "import random"
   ]
  },
  {
   "cell_type": "code",
   "execution_count": 8,
   "metadata": {},
   "outputs": [],
   "source": [
    "def validate_input(input_num: str) -> bool:\n",
    "    \"\"\"Validating the input based on rules and logic\n",
    "\n",
    "    :param input_num: user guess\n",
    "    :return: validation of input\n",
    "    \"\"\"\n",
    "    if not input_num.isdigit():\n",
    "        print('Invalid input. Please enter a number.')\n",
    "        return False\n",
    "    \n",
    "    input_num = int(input_num)\n",
    "    if input_num < 1 or input_num > 100:\n",
    "        print('Invalid input. Please enter a number between 1 and 100.')\n",
    "        return False\n",
    "    \n",
    "    return True\n"
   ]
  },
  {
   "cell_type": "code",
   "execution_count": 10,
   "metadata": {},
   "outputs": [],
   "source": [
    "def start_game():\n",
    "    rand_num = random.randint(1, 100)\n",
    "    score = 100\n",
    "\n",
    "    while True:\n",
    "        input_num = input('Enter your guess between 1 and 100: ')\n",
    "\n",
    "        if input_num.lower() == 'q':\n",
    "            print('Goodbye!')\n",
    "            break\n",
    "\n",
    "        if not validate_input(input_num):\n",
    "            continue\n",
    "        "
   ]
  },
  {
   "cell_type": "code",
   "execution_count": 11,
   "metadata": {},
   "outputs": [
    {
     "name": "stdout",
     "output_type": "stream",
     "text": [
      "Invalid input. Please enter a number between 1 and 100.\n",
      "Goodbye!\n"
     ]
    }
   ],
   "source": [
    "start_game()"
   ]
  },
  {
   "cell_type": "code",
   "execution_count": null,
   "metadata": {},
   "outputs": [],
   "source": []
  }
 ],
 "metadata": {
  "kernelspec": {
   "display_name": "base",
   "language": "python",
   "name": "python3"
  },
  "language_info": {
   "codemirror_mode": {
    "name": "ipython",
    "version": 3
   },
   "file_extension": ".py",
   "mimetype": "text/x-python",
   "name": "python",
   "nbconvert_exporter": "python",
   "pygments_lexer": "ipython3",
   "version": "3.10.9"
  }
 },
 "nbformat": 4,
 "nbformat_minor": 2
}
