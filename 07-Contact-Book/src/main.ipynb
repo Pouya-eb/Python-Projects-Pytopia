{
 "cells": [
  {
   "cell_type": "code",
   "execution_count": 2,
   "metadata": {},
   "outputs": [],
   "source": [
    "# contact book class\n",
    "# -add contact method\n",
    "# -update contact method\n",
    "# -delete contact method\n",
    "# -view contact method"
   ]
  },
  {
   "cell_type": "code",
   "execution_count": 3,
   "metadata": {},
   "outputs": [],
   "source": [
    "from collections import defaultdict"
   ]
  },
  {
   "cell_type": "code",
   "execution_count": 15,
   "metadata": {},
   "outputs": [],
   "source": [
    "class ContactBook:\n",
    "    \"\"\"Class for implementing contact book\"\"\"\n",
    "    def __init__(self) -> None:\n",
    "        \"\"\"Initialize contact book object \"\"\"\n",
    "        self.contacts = defaultdict(dict)\n",
    "\n",
    "    def add_contact(self, name: str, phone: str, email: str):\n",
    "        \"\"\"Adds a new contact to the contact book\n",
    "\n",
    "        :param name: The name of the contact \n",
    "        :param phone: The phone number of the contact \n",
    "        :param email: The email address of the contact \n",
    "        \"\"\"\n",
    "        if name in self.contacts:\n",
    "            print('Contact already exist!')\n",
    "            return\n",
    "        \n",
    "        self.contacts[name] = {'phone': phone, 'email': email}\n",
    "        print('Contact added successfully!')\n"
   ]
  },
  {
   "cell_type": "code",
   "execution_count": 16,
   "metadata": {},
   "outputs": [],
   "source": [
    "contact = ContactBook()"
   ]
  },
  {
   "cell_type": "code",
   "execution_count": 17,
   "metadata": {},
   "outputs": [
    {
     "name": "stdout",
     "output_type": "stream",
     "text": [
      "Contact added successfully!\n",
      "Contact already exist!\n"
     ]
    }
   ],
   "source": [
    "contact.add_contact('Pouya', '00000', 'pouya@')\n",
    "contact.add_contact('Pouya', '0111', 'abcd')"
   ]
  },
  {
   "cell_type": "code",
   "execution_count": null,
   "metadata": {},
   "outputs": [],
   "source": []
  }
 ],
 "metadata": {
  "kernelspec": {
   "display_name": "base",
   "language": "python",
   "name": "python3"
  },
  "language_info": {
   "codemirror_mode": {
    "name": "ipython",
    "version": 3
   },
   "file_extension": ".py",
   "mimetype": "text/x-python",
   "name": "python",
   "nbconvert_exporter": "python",
   "pygments_lexer": "ipython3",
   "version": "3.10.9"
  }
 },
 "nbformat": 4,
 "nbformat_minor": 2
}
