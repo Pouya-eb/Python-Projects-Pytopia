{
 "cells": [
  {
   "cell_type": "code",
   "execution_count": 104,
   "metadata": {},
   "outputs": [],
   "source": [
    "# contact book class\n",
    "# -update contact method"
   ]
  },
  {
   "cell_type": "code",
   "execution_count": 105,
   "metadata": {},
   "outputs": [],
   "source": [
    "from collections import defaultdict"
   ]
  },
  {
   "cell_type": "code",
   "execution_count": 113,
   "metadata": {},
   "outputs": [],
   "source": [
    "class ContactBook:\n",
    "    \"\"\"Class for implementing contact book\"\"\"\n",
    "    def __init__(self) -> None:\n",
    "        \"\"\"Initialize contact book object \"\"\"\n",
    "        self.contacts = defaultdict(dict)\n",
    "\n",
    "    def add_contact(self, name: str, phone: str, email: str) -> None:\n",
    "        \"\"\"Adds a new contact to the contact book\n",
    "\n",
    "        :param name: The name of the contact \n",
    "        :param phone: The phone number of the contact \n",
    "        :param email: The email address of the contact \n",
    "        \"\"\"\n",
    "        if name in self.contacts:\n",
    "            print('Contact already exist!')\n",
    "            return\n",
    "        \n",
    "        self.contacts[name] = {'phone': phone, 'email': email}\n",
    "        print('Contact added successfully!')\n",
    "\n",
    "    def view_contacts(self) -> None:\n",
    "        \"\"\"Display all contacts in the contact book\"\"\"\n",
    "        for name, info in self.contacts.items():\n",
    "            print(f'Name: {name}')\n",
    "            print(f'Phone: {info[\"phone\"]}')\n",
    "            print(f'Email: {info[\"email\"]}')\n",
    "            print('-' * 30)            \n",
    "\n",
    "    def delete_contact(self, name: str) -> None:\n",
    "        \"\"\"Delete a contact from contact book\n",
    "\n",
    "        :param name: The name of the contact to delete\n",
    "        \"\"\"\n",
    "        if name in self.contacts:\n",
    "            del self.contacts[name]\n",
    "            print(f'Contact {name} deleted successfully!')\n",
    "        else:\n",
    "            print('Contact not found!')\n"
   ]
  },
  {
   "cell_type": "code",
   "execution_count": 114,
   "metadata": {},
   "outputs": [],
   "source": [
    "contact = ContactBook()"
   ]
  },
  {
   "cell_type": "code",
   "execution_count": 115,
   "metadata": {},
   "outputs": [
    {
     "name": "stdout",
     "output_type": "stream",
     "text": [
      "Contact added successfully!\n",
      "Contact added successfully!\n",
      "Contact already exist!\n"
     ]
    }
   ],
   "source": [
    "contact.add_contact('Pouya', '00000', 'pouya@')\n",
    "contact.add_contact('Ali', '0989', 'aaa@')\n",
    "contact.add_contact('Pouya', '0111', 'abcd')"
   ]
  },
  {
   "cell_type": "code",
   "execution_count": 116,
   "metadata": {},
   "outputs": [
    {
     "name": "stdout",
     "output_type": "stream",
     "text": [
      "Name: Pouya\n",
      "Phone: 00000\n",
      "Email: pouya@\n",
      "------------------------------\n",
      "Name: Ali\n",
      "Phone: 0989\n",
      "Email: aaa@\n",
      "------------------------------\n"
     ]
    }
   ],
   "source": [
    "contact.view_contacts()"
   ]
  },
  {
   "cell_type": "code",
   "execution_count": 117,
   "metadata": {},
   "outputs": [
    {
     "name": "stdout",
     "output_type": "stream",
     "text": [
      "Contact Pouya deleted successfully!\n",
      "Contact not found!\n"
     ]
    }
   ],
   "source": [
    "contact.delete_contact('Pouya')\n",
    "contact.delete_contact('Pouya')"
   ]
  },
  {
   "cell_type": "code",
   "execution_count": 118,
   "metadata": {},
   "outputs": [
    {
     "name": "stdout",
     "output_type": "stream",
     "text": [
      "Name: Ali\n",
      "Phone: 0989\n",
      "Email: aaa@\n",
      "------------------------------\n"
     ]
    }
   ],
   "source": [
    "contact.view_contacts()"
   ]
  },
  {
   "cell_type": "code",
   "execution_count": null,
   "metadata": {},
   "outputs": [],
   "source": []
  }
 ],
 "metadata": {
  "kernelspec": {
   "display_name": "base",
   "language": "python",
   "name": "python3"
  },
  "language_info": {
   "codemirror_mode": {
    "name": "ipython",
    "version": 3
   },
   "file_extension": ".py",
   "mimetype": "text/x-python",
   "name": "python",
   "nbconvert_exporter": "python",
   "pygments_lexer": "ipython3",
   "version": "3.10.9"
  }
 },
 "nbformat": 4,
 "nbformat_minor": 2
}
