{
 "cells": [
  {
   "cell_type": "code",
   "execution_count": 1,
   "metadata": {},
   "outputs": [],
   "source": [
    "import random"
   ]
  },
  {
   "cell_type": "code",
   "execution_count": 3,
   "metadata": {},
   "outputs": [],
   "source": [
    "class RockPaperScissors:\n",
    "    \"\"\"Main class for the game Rock, Paper, Scissors\"\"\"\n",
    "    def __init__(self, name: str) -> None:\n",
    "        self.choices = ['rock', 'paper', 'scissors']\n",
    "        self.player_name = name\n",
    "    \n",
    "    def get_user_choice(self) -> str:\n",
    "        \"\"\"Method to get the user's choice\n",
    "\n",
    "        :return: User's choice\n",
    "        \"\"\"\n",
    "        user_choice = input('Enter your choice (rock/paper/scissors): ').lower()\n",
    "        if user_choice in self.choices:\n",
    "            return user_choice\n",
    "        else:\n",
    "            print(f'Invalid choice, you must select from {self.choices}')\n",
    "            return self.get_user_choice()\n",
    "    \n",
    "    "
   ]
  },
  {
   "cell_type": "code",
   "execution_count": null,
   "metadata": {},
   "outputs": [],
   "source": []
  }
 ],
 "metadata": {
  "kernelspec": {
   "display_name": "base",
   "language": "python",
   "name": "python3"
  },
  "language_info": {
   "codemirror_mode": {
    "name": "ipython",
    "version": 3
   },
   "file_extension": ".py",
   "mimetype": "text/x-python",
   "name": "python",
   "nbconvert_exporter": "python",
   "pygments_lexer": "ipython3",
   "version": "3.10.9"
  }
 },
 "nbformat": 4,
 "nbformat_minor": 2
}
