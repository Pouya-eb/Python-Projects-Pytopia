{
 "cells": [
  {
   "cell_type": "code",
   "execution_count": 1,
   "metadata": {},
   "outputs": [],
   "source": [
    "import random"
   ]
  },
  {
   "cell_type": "code",
   "execution_count": 4,
   "metadata": {},
   "outputs": [],
   "source": [
    "class RockPaperScissors:\n",
    "    \"\"\"Main class for the game Rock, Paper, Scissors\"\"\"\n",
    "    def __init__(self, name: str) -> None:\n",
    "        self.choices = ['rock', 'paper', 'scissors']\n",
    "        self.player_name = name\n",
    "    \n",
    "    def get_user_choice(self) -> str:\n",
    "        \"\"\"Method to get the user's choice\n",
    "\n",
    "        :return: User's choice\n",
    "        \"\"\"\n",
    "        user_choice = input('Enter your choice (rock/paper/scissors): ').lower()\n",
    "        if user_choice in self.choices:\n",
    "            return user_choice\n",
    "        else:\n",
    "            print(f'Invalid choice, you must select from {self.choices}')\n",
    "            return self.get_user_choice()\n",
    "\n",
    "    def get_computer_choice(self) -> str:\n",
    "        \"\"\"Method to get computer's choice\n",
    "\n",
    "        :return: Computer's choice\n",
    "        \"\"\"\n",
    "        return random.choice(self.choices)\n",
    "    \n",
    "    def decide_winner(self, user_choice: str, computer_choice: str) -> str:\n",
    "        \"\"\"Method to decide game winner based on rules\n",
    "\n",
    "        :param user_choice: The user's choice\n",
    "        :param computer_choice: The computer choice \n",
    "        :return: game outcome\n",
    "        \"\"\"\n",
    "        if user_choice == computer_choice:\n",
    "            return 'It\\'s a Tie'\n",
    "        \n",
    "        win_combinations = [('rock', 'scissors'), ('paper', 'rock'), ('scissors', 'paper')]\n",
    "        if (user_choice, computer_choice) in win_combinations:\n",
    "            return 'Congratulations, you won!'\n",
    "        \n",
    "        return 'Oh no, the computer won!'\n",
    "    \n",
    "\n",
    "    "
   ]
  },
  {
   "cell_type": "code",
   "execution_count": null,
   "metadata": {},
   "outputs": [],
   "source": []
  }
 ],
 "metadata": {
  "kernelspec": {
   "display_name": "base",
   "language": "python",
   "name": "python3"
  },
  "language_info": {
   "codemirror_mode": {
    "name": "ipython",
    "version": 3
   },
   "file_extension": ".py",
   "mimetype": "text/x-python",
   "name": "python",
   "nbconvert_exporter": "python",
   "pygments_lexer": "ipython3",
   "version": "3.10.9"
  }
 },
 "nbformat": 4,
 "nbformat_minor": 2
}
