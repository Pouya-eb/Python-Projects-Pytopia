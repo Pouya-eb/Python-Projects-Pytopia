{
 "cells": [
  {
   "cell_type": "code",
   "execution_count": 6,
   "metadata": {},
   "outputs": [],
   "source": [
    "def is_happy(number: int) -> bool:\n",
    "    \"\"\"Check whether given number is happy or not\n",
    "\n",
    "    :param number: The number to check\n",
    "    :return: True if number is happy, False otherwise\n",
    "    \"\"\"\n",
    "    seen_numbers = set()\n",
    "\n",
    "    while (number != 1) and (number not in seen_numbers):\n",
    "        seen_numbers.add(number)\n",
    "        number = sum(int(digit) ** 2 for digit in str(number))\n",
    "    \n",
    "    return (number == 1)"
   ]
  },
  {
   "cell_type": "code",
   "execution_count": 7,
   "metadata": {},
   "outputs": [
    {
     "name": "stdout",
     "output_type": "stream",
     "text": [
      "False\n",
      "True\n"
     ]
    }
   ],
   "source": [
    "print(is_happy(4))\n",
    "print(is_happy(7))"
   ]
  },
  {
   "cell_type": "code",
   "execution_count": null,
   "metadata": {},
   "outputs": [],
   "source": []
  }
 ],
 "metadata": {
  "kernelspec": {
   "display_name": "base",
   "language": "python",
   "name": "python3"
  },
  "language_info": {
   "codemirror_mode": {
    "name": "ipython",
    "version": 3
   },
   "file_extension": ".py",
   "mimetype": "text/x-python",
   "name": "python",
   "nbconvert_exporter": "python",
   "pygments_lexer": "ipython3",
   "version": "3.10.9"
  }
 },
 "nbformat": 4,
 "nbformat_minor": 2
}
